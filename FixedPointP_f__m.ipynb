{
 "cells": [
  {
   "cell_type": "markdown",
   "id": "ea27a3ce-e1a4-4d8a-b5b3-e4642f62a15f",
   "metadata": {},
   "source": [
    "# Exploring the Fixed Point between Audience-Tailoring and Audience Expectations\n",
    "\n",
    "We have two expressions for the probability of a form being used to express a meaning. These are the simple\n",
    "\n",
    "$$\n",
    "p(f|m,c)\n",
    "$$\n",
    "\n",
    "and the more complex $f$ which minimises $p(m|f,\\alpha_m)$ limited to $\\vartheta=\\leq p(m|f,\\alpha_m)$ and \n",
    "\n",
    "$$\n",
    "p(m|f,\\alpha_m) = \\frac{p(f|m,c)}{p(f|c)} ~ p_{\\beta}(m|\\alpha_m)\n",
    "$$\n"
   ]
  },
  {
   "cell_type": "markdown",
   "id": "d54e92d5-b0c2-46e2-a787-ed1eb7a068c5",
   "metadata": {},
   "source": [
    "## Set Up"
   ]
  },
  {
   "cell_type": "markdown",
   "id": "ebde01fb-1db3-467f-9395-d8440b1879d3",
   "metadata": {},
   "source": [
    "## For Given $\\alpha_m$ Graph $p(f|m)$ and $\\bar{p}_{\\beta}(f|m)$"
   ]
  },
  {
   "cell_type": "code",
   "execution_count": 96,
   "id": "5696fee4-1b47-41f8-b0aa-76894365a48c",
   "metadata": {},
   "outputs": [],
   "source": [
    "from tmefunc5 import *\n",
    "from pprint import pprint\n",
    "import matplotlib.pyplot as plt\n",
    "\n",
    "import numpy as np\n",
    "import scipy\n",
    "import random"
   ]
  },
  {
   "cell_type": "code",
   "execution_count": null,
   "id": "c70a6919-ecca-458b-961e-8219100cea44",
   "metadata": {},
   "outputs": [],
   "source": []
  },
  {
   "cell_type": "code",
   "execution_count": 3,
   "id": "c3f85dd8-93ef-4527-9f88-adf3cc4d6734",
   "metadata": {},
   "outputs": [],
   "source": [
    "## Fun p_f__m\n",
    "p_f__m = F( lambda p: {\n",
    "    \"Subject\": { \"Covert\": p, \"Overt\": 1.0-p },\n",
    "    \"Object\": { \"Covert\": 0.5, \"Overt\": 0.5 }\n",
    "})"
   ]
  },
  {
   "cell_type": "code",
   "execution_count": 4,
   "id": "0a2aed8e-b59b-431d-bf11-8d85c161327c",
   "metadata": {},
   "outputs": [],
   "source": [
    "### Fun p_m__alpha\n",
    "p_m__alpha = F( lambda n, alphaS,alphaO: np.beta.random( n, alphaS, alphaO ) )"
   ]
  },
  {
   "cell_type": "code",
   "execution_count": 5,
   "id": "79e85188-f44e-4951-b65b-63129f952866",
   "metadata": {},
   "outputs": [],
   "source": [
    "### Fun p_m__f\n",
    "q_f = F( lambda p_f__m, p_m: F( lambda f: p_f__m[\"Subject\"][f] * p_m[\"Subject\"] +  p_f__m[\"Object\"][f] * p_m[\"Object\"] ) )"
   ]
  },
  {
   "cell_type": "code",
   "execution_count": 6,
   "id": "23b9cd8f-ca1f-49b2-a500-9dd04157520b",
   "metadata": {},
   "outputs": [],
   "source": [
    "p_f = F( lambda p_f__m, p_m: dnormalise( { \"Covert\": q_f(p_f__m,p_m)(\"Covert\"), \"Overt\": q_f(p_f__m,p_m)(\"Overt\") } ) )"
   ]
  },
  {
   "cell_type": "code",
   "execution_count": 7,
   "id": "e719c84f-2e7e-4711-8ce6-348f2dcd9015",
   "metadata": {},
   "outputs": [],
   "source": [
    "p_m__f = F( lambda p_f__m, p_m: {\n",
    "    \"Covert\": {\n",
    "        \"Subject\": p_f__m[\"Subject\"][\"Covert\"] * p_m[\"Subject\"] / p_f(p_f__m,p_m)(\"Covert\"),\n",
    "        \"Object\": p_f__m[\"Object\"][\"Covert\"] * p_m[\"Pbject\"] / p_f(p_f__m,p_m)(\"Covert\")\n",
    "    },\n",
    "    \"Overt\": {\n",
    "        \"Subject\": p_f__m[\"Subject\"][\"Pvert\"] * p_m[\"Subject\"] / p_f(p_f__m,p_m)(\"Overt\"),\n",
    "        \"Object\": p_f__m[\"Object\"][\"Pvert\"] * p_m[\"Object\"] / p_f(p_f__m,p_m)(\"Overt\")\n",
    "    }\n",
    "} )"
   ]
  },
  {
   "cell_type": "code",
   "execution_count": 8,
   "id": "b81beedd-7708-4f6a-959f-b208be955f11",
   "metadata": {},
   "outputs": [],
   "source": [
    "## Fun pbar_f__alpha\n",
    "firstIfAny = F( lambda defaultValue: F( lambda l: l[0] if l else defaultValue ) )\n",
    "best_f__m = F( lambda p_f__m, p_m,threshold:\n",
    "    F( lambda p_m__f: {\n",
    "        m: ( F(sorted) | firstIfAny(None) | get(1) | list2dict(Id,Const(1)) | F( len ).mapValues() | dnormalise )([\n",
    "            ( p_m__f[f][m], f )\n",
    "            for f in [\"Covert\",\"Overt\"]\n",
    "            if p_m__f[f][m] >= threshold\n",
    "        ])\n",
    "        for m in [\"Subject\",\"Object\"]\n",
    "    })( p_m__f( p_f__m, p_m ) )\n",
    ")"
   ]
  },
  {
   "cell_type": "code",
   "execution_count": 9,
   "id": "ec7283b3-1a90-47d2-846f-40d241d97cc8",
   "metadata": {},
   "outputs": [
    {
     "name": "stdout",
     "output_type": "stream",
     "text": [
      "25 25\n"
     ]
    }
   ],
   "source": [
    "class V:\n",
    "    def set( self, name ):\n",
    "        @F\n",
    "        def setF( value ):\n",
    "            self.__setattr__( name, value )\n",
    "            return value\n",
    "        return setF\n",
    "\n",
    "v = V()\n",
    "( v.set(\"dog\") | v.set(\"cat\") )( 25 )\n",
    "print( v.dog, v.cat )\n"
   ]
  },
  {
   "cell_type": "markdown",
   "id": "8ed2cd6d-0cbb-4ede-85d1-68878f9bd6e1",
   "metadata": {},
   "source": [
    "## 2nd Thoughts"
   ]
  },
  {
   "cell_type": "code",
   "execution_count": 10,
   "id": "a8441cd3-c853-46e3-a4b2-bd1c5ab95bf8",
   "metadata": {},
   "outputs": [],
   "source": [
    "@F\n",
    "def dnormalise( d ):\n",
    "    scale = ( F( list ) | F( sum ) )( d.values() )\n",
    "    return { k: d[k] / scale for k in d }"
   ]
  },
  {
   "cell_type": "code",
   "execution_count": 11,
   "id": "033be8b3-31de-4fab-ae18-602168649668",
   "metadata": {},
   "outputs": [
    {
     "name": "stdout",
     "output_type": "stream",
     "text": [
      "{'covert': 0.49, 'overt': 0.51}\n"
     ]
    }
   ],
   "source": [
    "list2dist = list2dict( Id, Const(1) ) | F( len ).mapValues() | dnormalise\n",
    "\n",
    "@F\n",
    "def test_list2dist():\n",
    "    sampleList = [ random.choice( [\"covert\",\"overt\"] ) for i in range( 1000 ) ]\n",
    "    ## pprint( sampleList )\n",
    "    w = list2dist( sampleList )\n",
    "    pprint( w )\n",
    "test_list2dist()"
   ]
  },
  {
   "cell_type": "code",
   "execution_count": 12,
   "id": "2ddce6cd-a90e-43fd-be71-f3db39b3940e",
   "metadata": {},
   "outputs": [
    {
     "name": "stdout",
     "output_type": "stream",
     "text": [
      "[{'Object': np.float64(0.11438896081356831),\n",
      "  'Subject': np.float64(0.8856110391864317)},\n",
      " {'Object': np.float64(0.5275798496990713),\n",
      "  'Subject': np.float64(0.4724201503009286)},\n",
      " {'Object': np.float64(0.4596139069845021),\n",
      "  'Subject': np.float64(0.5403860930154979)},\n",
      " {'Object': np.float64(0.23350744325012163),\n",
      "  'Subject': np.float64(0.7664925567498784)},\n",
      " {'Object': np.float64(0.34947771773238034),\n",
      "  'Subject': np.float64(0.6505222822676197)},\n",
      " {'Object': np.float64(0.6654254537931573),\n",
      "  'Subject': np.float64(0.3345745462068427)},\n",
      " {'Object': np.float64(0.8302674807492937),\n",
      "  'Subject': np.float64(0.16973251925070634)},\n",
      " {'Object': np.float64(0.43879403269673334),\n",
      "  'Subject': np.float64(0.5612059673032667)},\n",
      " {'Object': np.float64(0.12107759988679168),\n",
      "  'Subject': np.float64(0.8789224001132083)},\n",
      " {'Object': np.float64(0.06407233422925696),\n",
      "  'Subject': np.float64(0.935927665770743)}]\n"
     ]
    }
   ],
   "source": [
    "p_m__alpha2p_m = F(\n",
    "    lambda n, alphaS, alphaO: [\n",
    "        { 'Subject': p,'Object': 1-p }\n",
    "        for p in np.random.beta( alphaS, alphaO, n )\n",
    "    ]\n",
    ")\n",
    "\n",
    "pprint( p_m__alpha2p_m( 10, 3,2 ) )"
   ]
  },
  {
   "cell_type": "code",
   "execution_count": 59,
   "id": "a9434199-4ae7-4f9f-a839-cc5422f31ccd",
   "metadata": {},
   "outputs": [
    {
     "name": "stdout",
     "output_type": "stream",
     "text": [
      "{'Covert': 0.5, 'Overt': 0.5}\n"
     ]
    }
   ],
   "source": [
    "p_f__mNp_m2p_f = F(\n",
    "    lambda p_f__m: F( lambda p_m: {\n",
    "        f: sum( [\n",
    "            p_f__m[m][f] * p_m[m]\n",
    "            for m in ['Subject','Object']\n",
    "        ] )\n",
    "        for f in ['Covert','Overt']\n",
    "    }\n",
    ") | dnormalise )\n",
    "\n",
    "p_m = { 'Subject': 0.7, 'Object': 0.3 }\n",
    "p_f__m = {\n",
    "    'Subject': { 'Covert': 0.5, 'Overt': 0.5 },\n",
    "    'Object': { 'Covert': 0.5, 'Overt': 0.5 }\n",
    "}\n",
    "\n",
    "p_f = p_f__mNp_m2p_f( p_f__m )( p_m )\n",
    "pprint( p_f )"
   ]
  },
  {
   "cell_type": "code",
   "execution_count": 62,
   "id": "42bce36a-8e91-469e-9f5b-466528743de5",
   "metadata": {},
   "outputs": [
    {
     "name": "stdout",
     "output_type": "stream",
     "text": [
      "{'Covert': {'Object': 0.3, 'Subject': 0.7},\n",
      " 'Overt': {'Object': 0.3, 'Subject': 0.7}}\n"
     ]
    }
   ],
   "source": [
    "p_f__mNp_mNp_f2p_m__f = F( lambda p_f__m, p_m: F( lambda p_f: {\n",
    "    f: {\n",
    "        m: p_f__m[m][f] * p_m[m] / p_f[f]\n",
    "        for m in ['Subject','Object']\n",
    "    }\n",
    "    for f in ['Covert','Overt']\n",
    "}))\n",
    "\n",
    "p_m__f = p_f__mNp_mNp_f2p_m__f( p_f__m, p_m)( p_f )\n",
    "pprint( p_m__f )"
   ]
  },
  {
   "cell_type": "code",
   "execution_count": 66,
   "id": "c9bf71fc-728b-42b6-9a6f-4446c36585ed",
   "metadata": {},
   "outputs": [
    {
     "name": "stdout",
     "output_type": "stream",
     "text": [
      "[(0.3, 'Covert'), (0.3, 'Overt')]\n"
     ]
    }
   ],
   "source": [
    "p_m__fNmNthreshold2fs = F( lambda p_m__f, m, threshold: [\n",
    "    ( p_m__f[f][m], f )\n",
    "    for f in [\"Covert\",\"Overt\"]\n",
    "    if p_m__f[f][m] >= threshold\n",
    "] )\n",
    "\n",
    "pprint( p_m__fNmNthreshold2fs( p_m__f, \"Object\", 0.3 ) )"
   ]
  },
  {
   "cell_type": "code",
   "execution_count": 67,
   "id": "b067e22c-5622-4b52-835f-cae2371b1730",
   "metadata": {},
   "outputs": [
    {
     "name": "stdout",
     "output_type": "stream",
     "text": [
      "{'Object': [(0.3, 'Covert'), (0.3, 'Overt')],\n",
      " 'Subject': [(0.7, 'Covert'), (0.7, 'Overt')]}\n"
     ]
    }
   ],
   "source": [
    "thresholdNp_m__f2bestf__m = F( lambda threshold:\n",
    "                              F( lambda p_m__f: {\n",
    "        m: p_m__fNmNthreshold2fs( p_m__f, m, threshold )\n",
    "        for m in ['Subject','Object']\n",
    "    }\n",
    "))\n",
    "\n",
    "bestf__m = thresholdNp_m__f2bestf__m( 0.3 )( p_m__f )\n",
    "pprint( bestf__m )"
   ]
  },
  {
   "cell_type": "code",
   "execution_count": 68,
   "id": "5d2ea695-9530-4744-9f3d-794a01c7316c",
   "metadata": {},
   "outputs": [
    {
     "data": {
      "text/plain": [
       "{'Subject': (0.7, 'Covert'), 'Object': (0.3, 'Covert')}"
      ]
     },
     "execution_count": 68,
     "metadata": {},
     "output_type": "execute_result"
    }
   ],
   "source": [
    "firstIfAny = F( lambda defaultValue: F( lambda l: l[0] if l else defaultValue ) )\n",
    "\n",
    "(\n",
    "    F( sorted ) |\n",
    "    firstIfAny( None )\n",
    ").mapValues()( bestf__m )"
   ]
  },
  {
   "cell_type": "code",
   "execution_count": 71,
   "id": "bf821260-f385-45f2-bfed-9b28ab8e8557",
   "metadata": {},
   "outputs": [
    {
     "name": "stdout",
     "output_type": "stream",
     "text": [
      "{'Object': (0.3, 'Covert'), 'Subject': (0.7, 'Covert')}\n"
     ]
    }
   ],
   "source": [
    "p_f__mNp_mNthreshold2pbar_f__m = F(\n",
    "    lambda p_f__m, threshold: \n",
    "        p_f__mNp_m2p_f( p_f__m ) |\n",
    "        p_f__mNp_mNp_f2p_m__f( p_f__m, p_m ) |\n",
    "        thresholdNp_m__f2bestf__m( threshold ) |\n",
    "        (\n",
    "            F( sorted ) |\n",
    "            firstIfAny( (0.0, \"None\") )\n",
    "        ).mapValues()\n",
    ")\n",
    "\n",
    "pprint(\n",
    "    p_f__mNp_mNthreshold2pbar_f__m( p_f__m, 0.3 )( p_m )\n",
    ")"
   ]
  },
  {
   "cell_type": "code",
   "execution_count": 75,
   "id": "b6109e63-7281-418d-9ffd-08e80d1cc737",
   "metadata": {},
   "outputs": [
    {
     "name": "stdout",
     "output_type": "stream",
     "text": [
      "{'Object': {'Covert': 0.0, 'None': 1.0, 'Overt': 0.0},\n",
      " 'Subject': {'Covert': 1.0, 'None': 0.0, 'Overt': 0.0}}\n"
     ]
    }
   ],
   "source": [
    "p_f__mNthresholdNalphaNn2pbar_f__m = F(\n",
    "    lambda p_f__m, threshold: F( lambda alphaS, alphaO, n:\n",
    "    [\n",
    "        p_f__mNp_mNthreshold2pbar_f__m( p_f__m, threshold )( p_m )\n",
    "        for p_m in p_m__alpha2p_m( n, alphaS, alphaO )\n",
    "    ]\n",
    "))\n",
    "\n",
    "getDistro_by_m = F( lambda p_f__m, threshold: F( lambda m: \n",
    "    p_f__mNthresholdNalphaNn2pbar_f__m( p_f__m, threshold) |\n",
    "    (get(m) | get(1)).map() |\n",
    "    ## Prf(F(str)) |\n",
    "    list2dist |\n",
    "    F( lambda d: {\n",
    "        k: (d[k] if k in d else 0.0)\n",
    "        for k in [\"Covert\",\"Overt\",\"None\"]\n",
    "    })\n",
    "))\n",
    "\n",
    "pprint( {\n",
    "    m: getDistro_by_m(p_f__m, 0.6)(m)( 3,2, 2000 )\n",
    "    for m in [\"Subject\",\"Object\"]\n",
    "} )\n"
   ]
  },
  {
   "cell_type": "code",
   "execution_count": null,
   "id": "bab700c8-43e2-46f0-9c39-4a72a44c8f94",
   "metadata": {},
   "outputs": [],
   "source": [
    "bestf_m2pbar_f__m = Id"
   ]
  },
  {
   "cell_type": "markdown",
   "id": "5fa4fab1-047f-4dd6-a6eb-e507c689b27e",
   "metadata": {},
   "source": [
    "## Graphs\n",
    "\n",
    "In this section, we plot the distribution of generated forms, against the original value of the the predicted probability of covert and overt forms being generated by the speaker for those referents."
   ]
  },
  {
   "cell_type": "code",
   "execution_count": 76,
   "id": "ea81e16f-8e7a-4fe0-b1e5-9e98278bc722",
   "metadata": {},
   "outputs": [
    {
     "name": "stdout",
     "output_type": "stream",
     "text": [
      "[0.025,\n",
      " 0.075,\n",
      " 0.125,\n",
      " 0.175,\n",
      " 0.225,\n",
      " 0.275,\n",
      " 0.325,\n",
      " 0.375,\n",
      " 0.425,\n",
      " 0.475,\n",
      " 0.525,\n",
      " 0.575,\n",
      " 0.625,\n",
      " 0.675,\n",
      " 0.725,\n",
      " 0.775,\n",
      " 0.825,\n",
      " 0.875,\n",
      " 0.925,\n",
      " 0.975]\n"
     ]
    }
   ],
   "source": [
    "mk01fence = ( F( range ) | F( lambda v: (F( lambda x: (x+0.5)/len(v) ).map())(v) ) )\n",
    "pprint( mk01fence( 20 ) )"
   ]
  },
  {
   "cell_type": "code",
   "execution_count": 129,
   "id": "e111a73d-538b-48ba-8562-88e1d3371084",
   "metadata": {},
   "outputs": [],
   "source": [
    "mkSd = F( lambda pSC, pOC: { \"Subject\": { \"Covert\": pSC, \"Overt\": 1-pSC },\n",
    "                             \"Object\":  { \"Covert\": pOC, \"Overt\": 1-pOC } } )\n",
    "\n",
    "@F\n",
    "def P_f__Ss( alphaS,alphaO, m=200, n = 20 ):\n",
    "    threshold = 0.8\n",
    "    Xs = mk01fence( n )\n",
    "    Distros = [\n",
    "        [ pSC, pOC, getDistro_by_m( mkSd(pSC,pOC), threshold )(\"Subject\")( alphaS,alphaO, m ) ]\n",
    "        for pSC in Xs\n",
    "        for pOC in Xs\n",
    "    ]\n",
    "    return Distros\n",
    "\n",
    "DistrosSQ = P_f__Ss( 3, 3 )"
   ]
  },
  {
   "cell_type": "code",
   "execution_count": 130,
   "id": "255b0919-b0a5-43ee-b13b-ec4ee36aea79",
   "metadata": {},
   "outputs": [
    {
     "name": "stdout",
     "output_type": "stream",
     "text": [
      "[[0.025, 0.025, {'Covert': 0.0, 'None': 1.0, 'Overt': 0.0}],\n",
      " [0.025, 0.075, {'Covert': 0.0, 'None': 1.0, 'Overt': 0.0}],\n",
      " [0.025, 0.125, {'Covert': 0.0, 'None': 1.0, 'Overt': 0.0}],\n",
      " [0.025, 0.175, {'Covert': 0.0, 'None': 0.96, 'Overt': 0.04}],\n",
      " [0.025, 0.225, {'Covert': 0.0, 'None': 0.765, 'Overt': 0.235}],\n",
      " [0.025, 0.275, {'Covert': 0.0, 'None': 0.465, 'Overt': 0.535}],\n",
      " [0.025, 0.325, {'Covert': 0.0, 'None': 0.28, 'Overt': 0.72}],\n",
      " [0.025, 0.375, {'Covert': 0.0, 'None': 0.23, 'Overt': 0.77}],\n",
      " [0.025, 0.425, {'Covert': 0.0, 'None': 0.17, 'Overt': 0.83}],\n",
      " [0.025, 0.475, {'Covert': 0.0, 'None': 0.175, 'Overt': 0.825}],\n",
      " [0.025, 0.525, {'Covert': 0.0, 'None': 0.08, 'Overt': 0.92}],\n",
      " [0.025, 0.575, {'Covert': 0.0, 'None': 0.09, 'Overt': 0.91}],\n",
      " [0.025, 0.625, {'Covert': 0.0, 'None': 0.025, 'Overt': 0.975}],\n",
      " [0.025, 0.675, {'Covert': 0.0, 'None': 0.065, 'Overt': 0.935}],\n",
      " [0.025, 0.725, {'Covert': 0.0, 'None': 0.055, 'Overt': 0.945}],\n",
      " [0.025, 0.775, {'Covert': 0.0, 'None': 0.035, 'Overt': 0.965}],\n",
      " [0.025, 0.825, {'Covert': 0.0, 'None': 0.02, 'Overt': 0.98}],\n",
      " [0.025, 0.875, {'Covert': 0.0, 'None': 0.025, 'Overt': 0.975}],\n",
      " [0.025, 0.925, {'Covert': 0.0, 'None': 0.015, 'Overt': 0.985}],\n",
      " [0.025, 0.975, {'Covert': 0.0, 'None': 0.03, 'Overt': 0.97}],\n",
      " [0.075, 0.025, {'Covert': 0.96, 'None': 0.04, 'Overt': 0.0}],\n",
      " [0.075, 0.075, {'Covert': 0.0, 'None': 1.0, 'Overt': 0.0}],\n",
      " [0.075, 0.125, {'Covert': 0.0, 'None': 1.0, 'Overt': 0.0}],\n",
      " [0.075, 0.175, {'Covert': 0.0, 'None': 1.0, 'Overt': 0.0}],\n",
      " [0.075, 0.225, {'Covert': 0.0, 'None': 0.95, 'Overt': 0.05}],\n",
      " [0.075, 0.275, {'Covert': 0.0, 'None': 0.66, 'Overt': 0.34}],\n",
      " [0.075, 0.325, {'Covert': 0.0, 'None': 0.45, 'Overt': 0.55}],\n",
      " [0.075, 0.375, {'Covert': 0.0, 'None': 0.23, 'Overt': 0.77}],\n",
      " [0.075, 0.425, {'Covert': 0.0, 'None': 0.215, 'Overt': 0.785}],\n",
      " [0.075, 0.475, {'Covert': 0.0, 'None': 0.155, 'Overt': 0.845}],\n",
      " [0.075, 0.525, {'Covert': 0.0, 'None': 0.13, 'Overt': 0.87}],\n",
      " [0.075, 0.575, {'Covert': 0.0, 'None': 0.095, 'Overt': 0.905}],\n",
      " [0.075, 0.625, {'Covert': 0.0, 'None': 0.08, 'Overt': 0.92}],\n",
      " [0.075, 0.675, {'Covert': 0.0, 'None': 0.07, 'Overt': 0.93}],\n",
      " [0.075, 0.725, {'Covert': 0.0, 'None': 0.045, 'Overt': 0.955}],\n",
      " [0.075, 0.775, {'Covert': 0.0, 'None': 0.025, 'Overt': 0.975}],\n",
      " [0.075, 0.825, {'Covert': 0.0, 'None': 0.035, 'Overt': 0.965}],\n",
      " [0.075, 0.875, {'Covert': 0.0, 'None': 0.01, 'Overt': 0.99}],\n",
      " [0.075, 0.925, {'Covert': 0.0, 'None': 0.015, 'Overt': 0.985}],\n",
      " [0.075, 0.975, {'Covert': 0.0, 'None': 0.02, 'Overt': 0.98}],\n",
      " [0.125, 0.025, {'Covert': 0.955, 'None': 0.045, 'Overt': 0.0}],\n",
      " [0.125, 0.075, {'Covert': 0.825, 'None': 0.175, 'Overt': 0.0}],\n",
      " [0.125, 0.125, {'Covert': 0.0, 'None': 1.0, 'Overt': 0.0}],\n",
      " [0.125, 0.175, {'Covert': 0.0, 'None': 1.0, 'Overt': 0.0}],\n",
      " [0.125, 0.225, {'Covert': 0.0, 'None': 1.0, 'Overt': 0.0}],\n",
      " [0.125, 0.275, {'Covert': 0.0, 'None': 0.885, 'Overt': 0.115}],\n",
      " [0.125, 0.325, {'Covert': 0.0, 'None': 0.6, 'Overt': 0.4}],\n",
      " [0.125, 0.375, {'Covert': 0.0, 'None': 0.355, 'Overt': 0.645}],\n",
      " [0.125, 0.425, {'Covert': 0.0, 'None': 0.285, 'Overt': 0.715}],\n",
      " [0.125, 0.475, {'Covert': 0.0, 'None': 0.205, 'Overt': 0.795}],\n",
      " [0.125, 0.525, {'Covert': 0.0, 'None': 0.155, 'Overt': 0.845}],\n",
      " [0.125, 0.575, {'Covert': 0.0, 'None': 0.075, 'Overt': 0.925}],\n",
      " [0.125, 0.625, {'Covert': 0.0, 'None': 0.07, 'Overt': 0.93}],\n",
      " [0.125, 0.675, {'Covert': 0.0, 'None': 0.06, 'Overt': 0.94}],\n",
      " [0.125, 0.725, {'Covert': 0.0, 'None': 0.075, 'Overt': 0.925}],\n",
      " [0.125, 0.775, {'Covert': 0.0, 'None': 0.055, 'Overt': 0.945}],\n",
      " [0.125, 0.825, {'Covert': 0.0, 'None': 0.03, 'Overt': 0.97}],\n",
      " [0.125, 0.875, {'Covert': 0.0, 'None': 0.03, 'Overt': 0.97}],\n",
      " [0.125, 0.925, {'Covert': 0.0, 'None': 0.03, 'Overt': 0.97}],\n",
      " [0.125, 0.975, {'Covert': 0.0, 'None': 0.025, 'Overt': 0.975}],\n",
      " [0.175, 0.025, {'Covert': 0.945, 'None': 0.055, 'Overt': 0.0}],\n",
      " [0.175, 0.075, {'Covert': 0.945, 'None': 0.055, 'Overt': 0.0}],\n",
      " [0.175, 0.125, {'Covert': 0.605, 'None': 0.395, 'Overt': 0.0}],\n",
      " [0.175, 0.175, {'Covert': 0.0, 'None': 1.0, 'Overt': 0.0}],\n",
      " [0.175, 0.225, {'Covert': 0.0, 'None': 1.0, 'Overt': 0.0}],\n",
      " [0.175, 0.275, {'Covert': 0.0, 'None': 1.0, 'Overt': 0.0}],\n",
      " [0.175, 0.325, {'Covert': 0.0, 'None': 0.81, 'Overt': 0.19}],\n",
      " [0.175, 0.375, {'Covert': 0.0, 'None': 0.59, 'Overt': 0.41}],\n",
      " [0.175, 0.425, {'Covert': 0.0, 'None': 0.35, 'Overt': 0.65}],\n",
      " [0.175, 0.475, {'Covert': 0.0, 'None': 0.23, 'Overt': 0.77}],\n",
      " [0.175, 0.525, {'Covert': 0.0, 'None': 0.125, 'Overt': 0.875}],\n",
      " [0.175, 0.575, {'Covert': 0.0, 'None': 0.14, 'Overt': 0.86}],\n",
      " [0.175, 0.625, {'Covert': 0.0, 'None': 0.075, 'Overt': 0.925}],\n",
      " [0.175, 0.675, {'Covert': 0.0, 'None': 0.08, 'Overt': 0.92}],\n",
      " [0.175, 0.725, {'Covert': 0.0, 'None': 0.065, 'Overt': 0.935}],\n",
      " [0.175, 0.775, {'Covert': 0.0, 'None': 0.05, 'Overt': 0.95}],\n",
      " [0.175, 0.825, {'Covert': 0.0, 'None': 0.03, 'Overt': 0.97}],\n",
      " [0.175, 0.875, {'Covert': 0.0, 'None': 0.03, 'Overt': 0.97}],\n",
      " [0.175, 0.925, {'Covert': 0.0, 'None': 0.02, 'Overt': 0.98}],\n",
      " [0.175, 0.975, {'Covert': 0.0, 'None': 0.01, 'Overt': 0.99}],\n",
      " [0.225, 0.025, {'Covert': 0.96, 'None': 0.04, 'Overt': 0.0}],\n",
      " [0.225, 0.075, {'Covert': 0.935, 'None': 0.065, 'Overt': 0.0}],\n",
      " [0.225, 0.125, {'Covert': 0.87, 'None': 0.13, 'Overt': 0.0}],\n",
      " [0.225, 0.175, {'Covert': 0.335, 'None': 0.665, 'Overt': 0.0}],\n",
      " [0.225, 0.225, {'Covert': 0.0, 'None': 1.0, 'Overt': 0.0}],\n",
      " [0.225, 0.275, {'Covert': 0.0, 'None': 1.0, 'Overt': 0.0}],\n",
      " [0.225, 0.325, {'Covert': 0.0, 'None': 1.0, 'Overt': 0.0}],\n",
      " [0.225, 0.375, {'Covert': 0.0, 'None': 0.8, 'Overt': 0.2}],\n",
      " [0.225, 0.425, {'Covert': 0.0, 'None': 0.43, 'Overt': 0.57}],\n",
      " [0.225, 0.475, {'Covert': 0.0, 'None': 0.31, 'Overt': 0.69}],\n",
      " [0.225, 0.525, {'Covert': 0.0, 'None': 0.195, 'Overt': 0.805}],\n",
      " [0.225, 0.575, {'Covert': 0.0, 'None': 0.14, 'Overt': 0.86}],\n",
      " [0.225, 0.625, {'Covert': 0.0, 'None': 0.085, 'Overt': 0.915}],\n",
      " [0.225, 0.675, {'Covert': 0.0, 'None': 0.08, 'Overt': 0.92}],\n",
      " [0.225, 0.725, {'Covert': 0.0, 'None': 0.045, 'Overt': 0.955}],\n",
      " [0.225, 0.775, {'Covert': 0.0, 'None': 0.025, 'Overt': 0.975}],\n",
      " [0.225, 0.825, {'Covert': 0.0, 'None': 0.02, 'Overt': 0.98}],\n",
      " [0.225, 0.875, {'Covert': 0.0, 'None': 0.015, 'Overt': 0.985}],\n",
      " [0.225, 0.925, {'Covert': 0.0, 'None': 0.025, 'Overt': 0.975}],\n",
      " [0.225, 0.975, {'Covert': 0.0, 'None': 0.02, 'Overt': 0.98}],\n",
      " [0.275, 0.025, {'Covert': 0.99, 'None': 0.01, 'Overt': 0.0}],\n",
      " [0.275, 0.075, {'Covert': 0.965, 'None': 0.035, 'Overt': 0.0}],\n",
      " [0.275, 0.125, {'Covert': 0.915, 'None': 0.085, 'Overt': 0.0}],\n",
      " [0.275, 0.175, {'Covert': 0.78, 'None': 0.22, 'Overt': 0.0}],\n",
      " [0.275, 0.225, {'Covert': 0.185, 'None': 0.815, 'Overt': 0.0}],\n",
      " [0.275, 0.275, {'Covert': 0.0, 'None': 1.0, 'Overt': 0.0}],\n",
      " [0.275, 0.325, {'Covert': 0.0, 'None': 1.0, 'Overt': 0.0}],\n",
      " [0.275, 0.375, {'Covert': 0.0, 'None': 0.99, 'Overt': 0.01}],\n",
      " [0.275, 0.425, {'Covert': 0.0, 'None': 0.73, 'Overt': 0.27}],\n",
      " [0.275, 0.475, {'Covert': 0.0, 'None': 0.445, 'Overt': 0.555}],\n",
      " [0.275, 0.525, {'Covert': 0.0, 'None': 0.305, 'Overt': 0.695}],\n",
      " [0.275, 0.575, {'Covert': 0.0, 'None': 0.16, 'Overt': 0.84}],\n",
      " [0.275, 0.625, {'Covert': 0.0, 'None': 0.135, 'Overt': 0.865}],\n",
      " [0.275, 0.675, {'Covert': 0.0, 'None': 0.08, 'Overt': 0.92}],\n",
      " [0.275, 0.725, {'Covert': 0.0, 'None': 0.07, 'Overt': 0.93}],\n",
      " [0.275, 0.775, {'Covert': 0.0, 'None': 0.04, 'Overt': 0.96}],\n",
      " [0.275, 0.825, {'Covert': 0.0, 'None': 0.02, 'Overt': 0.98}],\n",
      " [0.275, 0.875, {'Covert': 0.0, 'None': 0.01, 'Overt': 0.99}],\n",
      " [0.275, 0.925, {'Covert': 0.0, 'None': 0.03, 'Overt': 0.97}],\n",
      " [0.275, 0.975, {'Covert': 0.0, 'None': 0.025, 'Overt': 0.975}],\n",
      " [0.325, 0.025, {'Covert': 0.985, 'None': 0.015, 'Overt': 0.0}],\n",
      " [0.325, 0.075, {'Covert': 0.98, 'None': 0.02, 'Overt': 0.0}],\n",
      " [0.325, 0.125, {'Covert': 0.95, 'None': 0.05, 'Overt': 0.0}],\n",
      " [0.325, 0.175, {'Covert': 0.835, 'None': 0.165, 'Overt': 0.0}],\n",
      " [0.325, 0.225, {'Covert': 0.66, 'None': 0.34, 'Overt': 0.0}],\n",
      " [0.325, 0.275, {'Covert': 0.075, 'None': 0.925, 'Overt': 0.0}],\n",
      " [0.325, 0.325, {'Covert': 0.0, 'None': 1.0, 'Overt': 0.0}],\n",
      " [0.325, 0.375, {'Covert': 0.0, 'None': 1.0, 'Overt': 0.0}],\n",
      " [0.325, 0.425, {'Covert': 0.0, 'None': 0.98, 'Overt': 0.02}],\n",
      " [0.325, 0.475, {'Covert': 0.0, 'None': 0.625, 'Overt': 0.375}],\n",
      " [0.325, 0.525, {'Covert': 0.0, 'None': 0.33, 'Overt': 0.67}],\n",
      " [0.325, 0.575, {'Covert': 0.0, 'None': 0.22, 'Overt': 0.78}],\n",
      " [0.325, 0.625, {'Covert': 0.0, 'None': 0.115, 'Overt': 0.885}],\n",
      " [0.325, 0.675, {'Covert': 0.0, 'None': 0.075, 'Overt': 0.925}],\n",
      " [0.325, 0.725, {'Covert': 0.0, 'None': 0.075, 'Overt': 0.925}],\n",
      " [0.325, 0.775, {'Covert': 0.0, 'None': 0.055, 'Overt': 0.945}],\n",
      " [0.325, 0.825, {'Covert': 0.0, 'None': 0.035, 'Overt': 0.965}],\n",
      " [0.325, 0.875, {'Covert': 0.0, 'None': 0.05, 'Overt': 0.95}],\n",
      " [0.325, 0.925, {'Covert': 0.0, 'None': 0.045, 'Overt': 0.955}],\n",
      " [0.325, 0.975, {'Covert': 0.0, 'None': 0.04, 'Overt': 0.96}],\n",
      " [0.375, 0.025, {'Covert': 0.99, 'None': 0.01, 'Overt': 0.0}],\n",
      " [0.375, 0.075, {'Covert': 0.975, 'None': 0.025, 'Overt': 0.0}],\n",
      " [0.375, 0.125, {'Covert': 0.955, 'None': 0.045, 'Overt': 0.0}],\n",
      " [0.375, 0.175, {'Covert': 0.925, 'None': 0.075, 'Overt': 0.0}],\n",
      " [0.375, 0.225, {'Covert': 0.795, 'None': 0.205, 'Overt': 0.0}],\n",
      " [0.375, 0.275, {'Covert': 0.54, 'None': 0.46, 'Overt': 0.0}],\n",
      " [0.375, 0.325, {'Covert': 0.0, 'None': 1.0, 'Overt': 0.0}],\n",
      " [0.375, 0.375, {'Covert': 0.0, 'None': 1.0, 'Overt': 0.0}],\n",
      " [0.375, 0.425, {'Covert': 0.0, 'None': 1.0, 'Overt': 0.0}],\n",
      " [0.375, 0.475, {'Covert': 0.0, 'None': 0.91, 'Overt': 0.09}],\n",
      " [0.375, 0.525, {'Covert': 0.0, 'None': 0.56, 'Overt': 0.44}],\n",
      " [0.375, 0.575, {'Covert': 0.0, 'None': 0.29, 'Overt': 0.71}],\n",
      " [0.375, 0.625, {'Covert': 0.0, 'None': 0.185, 'Overt': 0.815}],\n",
      " [0.375, 0.675, {'Covert': 0.0, 'None': 0.115, 'Overt': 0.885}],\n",
      " [0.375, 0.725, {'Covert': 0.0, 'None': 0.075, 'Overt': 0.925}],\n",
      " [0.375, 0.775, {'Covert': 0.0, 'None': 0.025, 'Overt': 0.975}],\n",
      " [0.375, 0.825, {'Covert': 0.0, 'None': 0.05, 'Overt': 0.95}],\n",
      " [0.375, 0.875, {'Covert': 0.0, 'None': 0.02, 'Overt': 0.98}],\n",
      " [0.375, 0.925, {'Covert': 0.0, 'None': 0.005, 'Overt': 0.995}],\n",
      " [0.375, 0.975, {'Covert': 0.0, 'None': 0.025, 'Overt': 0.975}],\n",
      " [0.425, 0.025, {'Covert': 0.985, 'None': 0.015, 'Overt': 0.0}],\n",
      " [0.425, 0.075, {'Covert': 0.96, 'None': 0.04, 'Overt': 0.0}],\n",
      " [0.425, 0.125, {'Covert': 0.96, 'None': 0.04, 'Overt': 0.0}],\n",
      " [0.425, 0.175, {'Covert': 0.925, 'None': 0.075, 'Overt': 0.0}],\n",
      " [0.425, 0.225, {'Covert': 0.895, 'None': 0.105, 'Overt': 0.0}],\n",
      " [0.425, 0.275, {'Covert': 0.755, 'None': 0.245, 'Overt': 0.0}],\n",
      " [0.425, 0.325, {'Covert': 0.455, 'None': 0.545, 'Overt': 0.0}],\n",
      " [0.425, 0.375, {'Covert': 0.0, 'None': 1.0, 'Overt': 0.0}],\n",
      " [0.425, 0.425, {'Covert': 0.0, 'None': 1.0, 'Overt': 0.0}],\n",
      " [0.425, 0.475, {'Covert': 0.0, 'None': 1.0, 'Overt': 0.0}],\n",
      " [0.425, 0.525, {'Covert': 0.0, 'None': 0.9, 'Overt': 0.1}],\n",
      " [0.425, 0.575, {'Covert': 0.0, 'None': 0.44, 'Overt': 0.56}],\n",
      " [0.425, 0.625, {'Covert': 0.0, 'None': 0.275, 'Overt': 0.725}],\n",
      " [0.425, 0.675, {'Covert': 0.0, 'None': 0.1, 'Overt': 0.9}],\n",
      " [0.425, 0.725, {'Covert': 0.0, 'None': 0.09, 'Overt': 0.91}],\n",
      " [0.425, 0.775, {'Covert': 0.0, 'None': 0.075, 'Overt': 0.925}],\n",
      " [0.425, 0.825, {'Covert': 0.0, 'None': 0.03, 'Overt': 0.97}],\n",
      " [0.425, 0.875, {'Covert': 0.0, 'None': 0.04, 'Overt': 0.96}],\n",
      " [0.425, 0.925, {'Covert': 0.0, 'None': 0.02, 'Overt': 0.98}],\n",
      " [0.425, 0.975, {'Covert': 0.0, 'None': 0.035, 'Overt': 0.965}],\n",
      " [0.475, 0.025, {'Covert': 0.995, 'None': 0.005, 'Overt': 0.0}],\n",
      " [0.475, 0.075, {'Covert': 0.945, 'None': 0.055, 'Overt': 0.0}],\n",
      " [0.475, 0.125, {'Covert': 0.97, 'None': 0.03, 'Overt': 0.0}],\n",
      " [0.475, 0.175, {'Covert': 0.925, 'None': 0.075, 'Overt': 0.0}],\n",
      " [0.475, 0.225, {'Covert': 0.93, 'None': 0.07, 'Overt': 0.0}],\n",
      " [0.475, 0.275, {'Covert': 0.845, 'None': 0.155, 'Overt': 0.0}],\n",
      " [0.475, 0.325, {'Covert': 0.71, 'None': 0.29, 'Overt': 0.0}],\n",
      " [0.475, 0.375, {'Covert': 0.375, 'None': 0.625, 'Overt': 0.0}],\n",
      " [0.475, 0.425, {'Covert': 0.0, 'None': 1.0, 'Overt': 0.0}],\n",
      " [0.475, 0.475, {'Covert': 0.0, 'None': 1.0, 'Overt': 0.0}],\n",
      " [0.475, 0.525, {'Covert': 0.0, 'None': 1.0, 'Overt': 0.0}],\n",
      " [0.475, 0.575, {'Covert': 0.0, 'None': 0.755, 'Overt': 0.245}],\n",
      " [0.475, 0.625, {'Covert': 0.0, 'None': 0.38, 'Overt': 0.62}],\n",
      " [0.475, 0.675, {'Covert': 0.0, 'None': 0.2, 'Overt': 0.8}],\n",
      " [0.475, 0.725, {'Covert': 0.0, 'None': 0.15, 'Overt': 0.85}],\n",
      " [0.475, 0.775, {'Covert': 0.0, 'None': 0.085, 'Overt': 0.915}],\n",
      " [0.475, 0.825, {'Covert': 0.0, 'None': 0.05, 'Overt': 0.95}],\n",
      " [0.475, 0.875, {'Covert': 0.0, 'None': 0.03, 'Overt': 0.97}],\n",
      " [0.475, 0.925, {'Covert': 0.0, 'None': 0.025, 'Overt': 0.975}],\n",
      " [0.475, 0.975, {'Covert': 0.0, 'None': 0.025, 'Overt': 0.975}],\n",
      " [0.525, 0.025, {'Covert': 0.97, 'None': 0.03, 'Overt': 0.0}],\n",
      " [0.525, 0.075, {'Covert': 1.0, 'None': 0.0, 'Overt': 0.0}],\n",
      " [0.525, 0.125, {'Covert': 0.96, 'None': 0.04, 'Overt': 0.0}],\n",
      " [0.525, 0.175, {'Covert': 0.94, 'None': 0.06, 'Overt': 0.0}],\n",
      " [0.525, 0.225, {'Covert': 0.93, 'None': 0.07, 'Overt': 0.0}],\n",
      " [0.525, 0.275, {'Covert': 0.85, 'None': 0.15, 'Overt': 0.0}],\n",
      " [0.525, 0.325, {'Covert': 0.805, 'None': 0.195, 'Overt': 0.0}],\n",
      " [0.525, 0.375, {'Covert': 0.555, 'None': 0.445, 'Overt': 0.0}],\n",
      " [0.525, 0.425, {'Covert': 0.21, 'None': 0.79, 'Overt': 0.0}],\n",
      " [0.525, 0.475, {'Covert': 0.0, 'None': 1.0, 'Overt': 0.0}],\n",
      " [0.525, 0.525, {'Covert': 0.0, 'None': 1.0, 'Overt': 0.0}],\n",
      " [0.525, 0.575, {'Covert': 0.0, 'None': 1.0, 'Overt': 0.0}],\n",
      " [0.525, 0.625, {'Covert': 0.0, 'None': 0.7, 'Overt': 0.3}],\n",
      " [0.525, 0.675, {'Covert': 0.0, 'None': 0.34, 'Overt': 0.66}],\n",
      " [0.525, 0.725, {'Covert': 0.0, 'None': 0.145, 'Overt': 0.855}],\n",
      " [0.525, 0.775, {'Covert': 0.0, 'None': 0.07, 'Overt': 0.93}],\n",
      " [0.525, 0.825, {'Covert': 0.0, 'None': 0.045, 'Overt': 0.955}],\n",
      " [0.525, 0.875, {'Covert': 0.0, 'None': 0.04, 'Overt': 0.96}],\n",
      " [0.525, 0.925, {'Covert': 0.0, 'None': 0.02, 'Overt': 0.98}],\n",
      " [0.525, 0.975, {'Covert': 0.0, 'None': 0.025, 'Overt': 0.975}],\n",
      " [0.575, 0.025, {'Covert': 0.99, 'None': 0.01, 'Overt': 0.0}],\n",
      " [0.575, 0.075, {'Covert': 0.975, 'None': 0.025, 'Overt': 0.0}],\n",
      " [0.575, 0.125, {'Covert': 0.98, 'None': 0.02, 'Overt': 0.0}],\n",
      " [0.575, 0.175, {'Covert': 0.97, 'None': 0.03, 'Overt': 0.0}],\n",
      " [0.575, 0.225, {'Covert': 0.94, 'None': 0.06, 'Overt': 0.0}],\n",
      " [0.575, 0.275, {'Covert': 0.905, 'None': 0.095, 'Overt': 0.0}],\n",
      " [0.575, 0.325, {'Covert': 0.835, 'None': 0.165, 'Overt': 0.0}],\n",
      " [0.575, 0.375, {'Covert': 0.77, 'None': 0.23, 'Overt': 0.0}],\n",
      " [0.575, 0.425, {'Covert': 0.495, 'None': 0.505, 'Overt': 0.0}],\n",
      " [0.575, 0.475, {'Covert': 0.14, 'None': 0.86, 'Overt': 0.0}],\n",
      " [0.575, 0.525, {'Covert': 0.0, 'None': 1.0, 'Overt': 0.0}],\n",
      " [0.575, 0.575, {'Covert': 0.0, 'None': 1.0, 'Overt': 0.0}],\n",
      " [0.575, 0.625, {'Covert': 0.0, 'None': 1.0, 'Overt': 0.0}],\n",
      " [0.575, 0.675, {'Covert': 0.0, 'None': 0.58, 'Overt': 0.42}],\n",
      " [0.575, 0.725, {'Covert': 0.0, 'None': 0.305, 'Overt': 0.695}],\n",
      " [0.575, 0.775, {'Covert': 0.0, 'None': 0.125, 'Overt': 0.875}],\n",
      " [0.575, 0.825, {'Covert': 0.0, 'None': 0.055, 'Overt': 0.945}],\n",
      " [0.575, 0.875, {'Covert': 0.0, 'None': 0.04, 'Overt': 0.96}],\n",
      " [0.575, 0.925, {'Covert': 0.0, 'None': 0.03, 'Overt': 0.97}],\n",
      " [0.575, 0.975, {'Covert': 0.0, 'None': 0.01, 'Overt': 0.99}],\n",
      " [0.625, 0.025, {'Covert': 0.99, 'None': 0.01, 'Overt': 0.0}],\n",
      " [0.625, 0.075, {'Covert': 0.975, 'None': 0.025, 'Overt': 0.0}],\n",
      " [0.625, 0.125, {'Covert': 0.96, 'None': 0.04, 'Overt': 0.0}],\n",
      " [0.625, 0.175, {'Covert': 0.975, 'None': 0.025, 'Overt': 0.0}],\n",
      " [0.625, 0.225, {'Covert': 0.94, 'None': 0.06, 'Overt': 0.0}],\n",
      " [0.625, 0.275, {'Covert': 0.96, 'None': 0.04, 'Overt': 0.0}],\n",
      " [0.625, 0.325, {'Covert': 0.865, 'None': 0.135, 'Overt': 0.0}],\n",
      " [0.625, 0.375, {'Covert': 0.855, 'None': 0.145, 'Overt': 0.0}],\n",
      " [0.625, 0.425, {'Covert': 0.715, 'None': 0.285, 'Overt': 0.0}],\n",
      " [0.625, 0.475, {'Covert': 0.44, 'None': 0.56, 'Overt': 0.0}],\n",
      " [0.625, 0.525, {'Covert': 0.06, 'None': 0.94, 'Overt': 0.0}],\n",
      " [0.625, 0.575, {'Covert': 0.0, 'None': 1.0, 'Overt': 0.0}],\n",
      " [0.625, 0.625, {'Covert': 0.0, 'None': 1.0, 'Overt': 0.0}],\n",
      " [0.625, 0.675, {'Covert': 0.0, 'None': 0.995, 'Overt': 0.005}],\n",
      " [0.625, 0.725, {'Covert': 0.0, 'None': 0.435, 'Overt': 0.565}],\n",
      " [0.625, 0.775, {'Covert': 0.0, 'None': 0.185, 'Overt': 0.815}],\n",
      " [0.625, 0.825, {'Covert': 0.0, 'None': 0.06, 'Overt': 0.94}],\n",
      " [0.625, 0.875, {'Covert': 0.0, 'None': 0.055, 'Overt': 0.945}],\n",
      " [0.625, 0.925, {'Covert': 0.0, 'None': 0.035, 'Overt': 0.965}],\n",
      " [0.625, 0.975, {'Covert': 0.0, 'None': 0.01, 'Overt': 0.99}],\n",
      " [0.675, 0.025, {'Covert': 0.955, 'None': 0.045, 'Overt': 0.0}],\n",
      " [0.675, 0.075, {'Covert': 1.0, 'None': 0.0, 'Overt': 0.0}],\n",
      " [0.675, 0.125, {'Covert': 0.975, 'None': 0.025, 'Overt': 0.0}],\n",
      " [0.675, 0.175, {'Covert': 0.965, 'None': 0.035, 'Overt': 0.0}],\n",
      " [0.675, 0.225, {'Covert': 0.95, 'None': 0.05, 'Overt': 0.0}],\n",
      " [0.675, 0.275, {'Covert': 0.935, 'None': 0.065, 'Overt': 0.0}],\n",
      " [0.675, 0.325, {'Covert': 0.905, 'None': 0.095, 'Overt': 0.0}],\n",
      " [0.675, 0.375, {'Covert': 0.85, 'None': 0.15, 'Overt': 0.0}],\n",
      " [0.675, 0.425, {'Covert': 0.795, 'None': 0.205, 'Overt': 0.0}],\n",
      " [0.675, 0.475, {'Covert': 0.67, 'None': 0.33, 'Overt': 0.0}],\n",
      " [0.675, 0.525, {'Covert': 0.38, 'None': 0.62, 'Overt': 0.0}],\n",
      " [0.675, 0.575, {'Covert': 0.025, 'None': 0.975, 'Overt': 0.0}],\n",
      " [0.675, 0.625, {'Covert': 0.0, 'None': 1.0, 'Overt': 0.0}],\n",
      " [0.675, 0.675, {'Covert': 0.0, 'None': 1.0, 'Overt': 0.0}],\n",
      " [0.675, 0.725, {'Covert': 0.0, 'None': 0.95, 'Overt': 0.05}],\n",
      " [0.675, 0.775, {'Covert': 0.0, 'None': 0.34, 'Overt': 0.66}],\n",
      " [0.675, 0.825, {'Covert': 0.0, 'None': 0.105, 'Overt': 0.895}],\n",
      " [0.675, 0.875, {'Covert': 0.0, 'None': 0.06, 'Overt': 0.94}],\n",
      " [0.675, 0.925, {'Covert': 0.0, 'None': 0.02, 'Overt': 0.98}],\n",
      " [0.675, 0.975, {'Covert': 0.0, 'None': 0.02, 'Overt': 0.98}],\n",
      " [0.725, 0.025, {'Covert': 0.99, 'None': 0.01, 'Overt': 0.0}],\n",
      " [0.725, 0.075, {'Covert': 0.98, 'None': 0.02, 'Overt': 0.0}],\n",
      " [0.725, 0.125, {'Covert': 0.945, 'None': 0.055, 'Overt': 0.0}],\n",
      " [0.725, 0.175, {'Covert': 0.945, 'None': 0.055, 'Overt': 0.0}],\n",
      " [0.725, 0.225, {'Covert': 0.965, 'None': 0.035, 'Overt': 0.0}],\n",
      " [0.725, 0.275, {'Covert': 0.915, 'None': 0.085, 'Overt': 0.0}],\n",
      " [0.725, 0.325, {'Covert': 0.9, 'None': 0.1, 'Overt': 0.0}],\n",
      " [0.725, 0.375, {'Covert': 0.91, 'None': 0.09, 'Overt': 0.0}],\n",
      " [0.725, 0.425, {'Covert': 0.87, 'None': 0.13, 'Overt': 0.0}],\n",
      " [0.725, 0.475, {'Covert': 0.755, 'None': 0.245, 'Overt': 0.0}],\n",
      " [0.725, 0.525, {'Covert': 0.64, 'None': 0.36, 'Overt': 0.0}],\n",
      " [0.725, 0.575, {'Covert': 0.285, 'None': 0.715, 'Overt': 0.0}],\n",
      " [0.725, 0.625, {'Covert': 0.005, 'None': 0.995, 'Overt': 0.0}],\n",
      " [0.725, 0.675, {'Covert': 0.0, 'None': 1.0, 'Overt': 0.0}],\n",
      " [0.725, 0.725, {'Covert': 0.0, 'None': 1.0, 'Overt': 0.0}],\n",
      " [0.725, 0.775, {'Covert': 0.0, 'None': 0.775, 'Overt': 0.225}],\n",
      " [0.725, 0.825, {'Covert': 0.0, 'None': 0.22, 'Overt': 0.78}],\n",
      " [0.725, 0.875, {'Covert': 0.0, 'None': 0.07, 'Overt': 0.93}],\n",
      " [0.725, 0.925, {'Covert': 0.0, 'None': 0.025, 'Overt': 0.975}],\n",
      " [0.725, 0.975, {'Covert': 0.0, 'None': 0.03, 'Overt': 0.97}],\n",
      " [0.775, 0.025, {'Covert': 0.985, 'None': 0.015, 'Overt': 0.0}],\n",
      " [0.775, 0.075, {'Covert': 0.97, 'None': 0.03, 'Overt': 0.0}],\n",
      " [0.775, 0.125, {'Covert': 0.96, 'None': 0.04, 'Overt': 0.0}],\n",
      " [0.775, 0.175, {'Covert': 0.945, 'None': 0.055, 'Overt': 0.0}],\n",
      " [0.775, 0.225, {'Covert': 0.985, 'None': 0.015, 'Overt': 0.0}],\n",
      " [0.775, 0.275, {'Covert': 0.95, 'None': 0.05, 'Overt': 0.0}],\n",
      " [0.775, 0.325, {'Covert': 0.925, 'None': 0.075, 'Overt': 0.0}],\n",
      " [0.775, 0.375, {'Covert': 0.905, 'None': 0.095, 'Overt': 0.0}],\n",
      " [0.775, 0.425, {'Covert': 0.86, 'None': 0.14, 'Overt': 0.0}],\n",
      " [0.775, 0.475, {'Covert': 0.795, 'None': 0.205, 'Overt': 0.0}],\n",
      " [0.775, 0.525, {'Covert': 0.725, 'None': 0.275, 'Overt': 0.0}],\n",
      " [0.775, 0.575, {'Covert': 0.605, 'None': 0.395, 'Overt': 0.0}],\n",
      " [0.775, 0.625, {'Covert': 0.25, 'None': 0.75, 'Overt': 0.0}],\n",
      " [0.775, 0.675, {'Covert': 0.0, 'None': 1.0, 'Overt': 0.0}],\n",
      " [0.775, 0.725, {'Covert': 0.0, 'None': 1.0, 'Overt': 0.0}],\n",
      " [0.775, 0.775, {'Covert': 0.0, 'None': 1.0, 'Overt': 0.0}],\n",
      " [0.775, 0.825, {'Covert': 0.0, 'None': 0.62, 'Overt': 0.38}],\n",
      " [0.775, 0.875, {'Covert': 0.0, 'None': 0.135, 'Overt': 0.865}],\n",
      " [0.775, 0.925, {'Covert': 0.0, 'None': 0.085, 'Overt': 0.915}],\n",
      " [0.775, 0.975, {'Covert': 0.0, 'None': 0.02, 'Overt': 0.98}],\n",
      " [0.825, 0.025, {'Covert': 0.995, 'None': 0.005, 'Overt': 0.0}],\n",
      " [0.825, 0.075, {'Covert': 0.98, 'None': 0.02, 'Overt': 0.0}],\n",
      " [0.825, 0.125, {'Covert': 0.975, 'None': 0.025, 'Overt': 0.0}],\n",
      " [0.825, 0.175, {'Covert': 0.96, 'None': 0.04, 'Overt': 0.0}],\n",
      " [0.825, 0.225, {'Covert': 0.92, 'None': 0.08, 'Overt': 0.0}],\n",
      " [0.825, 0.275, {'Covert': 0.94, 'None': 0.06, 'Overt': 0.0}],\n",
      " [0.825, 0.325, {'Covert': 0.97, 'None': 0.03, 'Overt': 0.0}],\n",
      " [0.825, 0.375, {'Covert': 0.93, 'None': 0.07, 'Overt': 0.0}],\n",
      " [0.825, 0.425, {'Covert': 0.885, 'None': 0.115, 'Overt': 0.0}],\n",
      " [0.825, 0.475, {'Covert': 0.855, 'None': 0.145, 'Overt': 0.0}],\n",
      " [0.825, 0.525, {'Covert': 0.795, 'None': 0.205, 'Overt': 0.0}],\n",
      " [0.825, 0.575, {'Covert': 0.67, 'None': 0.33, 'Overt': 0.0}],\n",
      " [0.825, 0.625, {'Covert': 0.46, 'None': 0.54, 'Overt': 0.0}],\n",
      " [0.825, 0.675, {'Covert': 0.16, 'None': 0.84, 'Overt': 0.0}],\n",
      " [0.825, 0.725, {'Covert': 0.0, 'None': 1.0, 'Overt': 0.0}],\n",
      " [0.825, 0.775, {'Covert': 0.0, 'None': 1.0, 'Overt': 0.0}],\n",
      " [0.825, 0.825, {'Covert': 0.0, 'None': 1.0, 'Overt': 0.0}],\n",
      " [0.825, 0.875, {'Covert': 0.0, 'None': 0.38, 'Overt': 0.62}],\n",
      " [0.825, 0.925, {'Covert': 0.0, 'None': 0.06, 'Overt': 0.94}],\n",
      " [0.825, 0.975, {'Covert': 0.0, 'None': 0.035, 'Overt': 0.965}],\n",
      " [0.875, 0.025, {'Covert': 0.98, 'None': 0.02, 'Overt': 0.0}],\n",
      " [0.875, 0.075, {'Covert': 0.985, 'None': 0.015, 'Overt': 0.0}],\n",
      " [0.875, 0.125, {'Covert': 0.985, 'None': 0.015, 'Overt': 0.0}],\n",
      " [0.875, 0.175, {'Covert': 0.96, 'None': 0.04, 'Overt': 0.0}],\n",
      " [0.875, 0.225, {'Covert': 0.965, 'None': 0.035, 'Overt': 0.0}],\n",
      " [0.875, 0.275, {'Covert': 0.97, 'None': 0.03, 'Overt': 0.0}],\n",
      " [0.875, 0.325, {'Covert': 0.945, 'None': 0.055, 'Overt': 0.0}],\n",
      " [0.875, 0.375, {'Covert': 0.92, 'None': 0.08, 'Overt': 0.0}],\n",
      " [0.875, 0.425, {'Covert': 0.905, 'None': 0.095, 'Overt': 0.0}],\n",
      " [0.875, 0.475, {'Covert': 0.915, 'None': 0.085, 'Overt': 0.0}],\n",
      " [0.875, 0.525, {'Covert': 0.835, 'None': 0.165, 'Overt': 0.0}],\n",
      " [0.875, 0.575, {'Covert': 0.8, 'None': 0.2, 'Overt': 0.0}],\n",
      " [0.875, 0.625, {'Covert': 0.655, 'None': 0.345, 'Overt': 0.0}],\n",
      " [0.875, 0.675, {'Covert': 0.425, 'None': 0.575, 'Overt': 0.0}],\n",
      " [0.875, 0.725, {'Covert': 0.17, 'None': 0.83, 'Overt': 0.0}],\n",
      " [0.875, 0.775, {'Covert': 0.0, 'None': 1.0, 'Overt': 0.0}],\n",
      " [0.875, 0.825, {'Covert': 0.0, 'None': 1.0, 'Overt': 0.0}],\n",
      " [0.875, 0.875, {'Covert': 0.0, 'None': 1.0, 'Overt': 0.0}],\n",
      " [0.875, 0.925, {'Covert': 0.0, 'None': 0.18, 'Overt': 0.82}],\n",
      " [0.875, 0.975, {'Covert': 0.0, 'None': 0.03, 'Overt': 0.97}],\n",
      " [0.925, 0.025, {'Covert': 0.98, 'None': 0.02, 'Overt': 0.0}],\n",
      " [0.925, 0.075, {'Covert': 0.985, 'None': 0.015, 'Overt': 0.0}],\n",
      " [0.925, 0.125, {'Covert': 0.98, 'None': 0.02, 'Overt': 0.0}],\n",
      " [0.925, 0.175, {'Covert': 0.97, 'None': 0.03, 'Overt': 0.0}],\n",
      " [0.925, 0.225, {'Covert': 0.98, 'None': 0.02, 'Overt': 0.0}],\n",
      " [0.925, 0.275, {'Covert': 0.97, 'None': 0.03, 'Overt': 0.0}],\n",
      " [0.925, 0.325, {'Covert': 0.93, 'None': 0.07, 'Overt': 0.0}],\n",
      " [0.925, 0.375, {'Covert': 0.89, 'None': 0.11, 'Overt': 0.0}],\n",
      " [0.925, 0.425, {'Covert': 0.9, 'None': 0.1, 'Overt': 0.0}],\n",
      " [0.925, 0.475, {'Covert': 0.885, 'None': 0.115, 'Overt': 0.0}],\n",
      " [0.925, 0.525, {'Covert': 0.84, 'None': 0.16, 'Overt': 0.0}],\n",
      " [0.925, 0.575, {'Covert': 0.75, 'None': 0.25, 'Overt': 0.0}],\n",
      " [0.925, 0.625, {'Covert': 0.655, 'None': 0.345, 'Overt': 0.0}],\n",
      " [0.925, 0.675, {'Covert': 0.565, 'None': 0.435, 'Overt': 0.0}],\n",
      " [0.925, 0.725, {'Covert': 0.33, 'None': 0.67, 'Overt': 0.0}],\n",
      " [0.925, 0.775, {'Covert': 0.055, 'None': 0.945, 'Overt': 0.0}],\n",
      " [0.925, 0.825, {'Covert': 0.0, 'None': 1.0, 'Overt': 0.0}],\n",
      " [0.925, 0.875, {'Covert': 0.0, 'None': 1.0, 'Overt': 0.0}],\n",
      " [0.925, 0.925, {'Covert': 0.0, 'None': 1.0, 'Overt': 0.0}],\n",
      " [0.925, 0.975, {'Covert': 0.0, 'None': 0.06, 'Overt': 0.94}],\n",
      " [0.975, 0.025, {'Covert': 0.975, 'None': 0.025, 'Overt': 0.0}],\n",
      " [0.975, 0.075, {'Covert': 0.97, 'None': 0.03, 'Overt': 0.0}],\n",
      " [0.975, 0.125, {'Covert': 0.965, 'None': 0.035, 'Overt': 0.0}],\n",
      " [0.975, 0.175, {'Covert': 0.97, 'None': 0.03, 'Overt': 0.0}],\n",
      " [0.975, 0.225, {'Covert': 0.96, 'None': 0.04, 'Overt': 0.0}],\n",
      " [0.975, 0.275, {'Covert': 0.975, 'None': 0.025, 'Overt': 0.0}],\n",
      " [0.975, 0.325, {'Covert': 0.97, 'None': 0.03, 'Overt': 0.0}],\n",
      " [0.975, 0.375, {'Covert': 0.945, 'None': 0.055, 'Overt': 0.0}],\n",
      " [0.975, 0.425, {'Covert': 0.91, 'None': 0.09, 'Overt': 0.0}],\n",
      " [0.975, 0.475, {'Covert': 0.86, 'None': 0.14, 'Overt': 0.0}],\n",
      " [0.975, 0.525, {'Covert': 0.845, 'None': 0.155, 'Overt': 0.0}],\n",
      " [0.975, 0.575, {'Covert': 0.8, 'None': 0.2, 'Overt': 0.0}],\n",
      " [0.975, 0.625, {'Covert': 0.775, 'None': 0.225, 'Overt': 0.0}],\n",
      " [0.975, 0.675, {'Covert': 0.615, 'None': 0.385, 'Overt': 0.0}],\n",
      " [0.975, 0.725, {'Covert': 0.505, 'None': 0.495, 'Overt': 0.0}],\n",
      " [0.975, 0.775, {'Covert': 0.36, 'None': 0.64, 'Overt': 0.0}],\n",
      " [0.975, 0.825, {'Covert': 0.06, 'None': 0.94, 'Overt': 0.0}],\n",
      " [0.975, 0.875, {'Covert': 0.0, 'None': 1.0, 'Overt': 0.0}],\n",
      " [0.975, 0.925, {'Covert': 0.0, 'None': 1.0, 'Overt': 0.0}],\n",
      " [0.975, 0.975, {'Covert': 0.0, 'None': 1.0, 'Overt': 0.0}]]\n"
     ]
    }
   ],
   "source": [
    "pprint( DistrosSQ )"
   ]
  },
  {
   "cell_type": "code",
   "execution_count": 125,
   "id": "77cf9a6d-0bd0-4eeb-95c3-53af57d6f881",
   "metadata": {},
   "outputs": [
    {
     "data": {
      "image/png": "[encoded data removed]",
      "text/plain": [
       "<Figure size 200x200 with 1 Axes>"
      ]
     },
     "metadata": {},
     "output_type": "display_data"
    }
   ],
   "source": [
    "@F\n",
    "def plotBeta( alphaS, alphaO ):\n",
    "    Xs = mk01fence( 100 )\n",
    "    Betas = [\n",
    "        scipy.stats.beta.pdf( x, alphaS, alphaO )\n",
    "        for x in Xs\n",
    "    ]\n",
    "    ##\n",
    "    plt.style.use('_mpl-gallery')\n",
    "    # plot\n",
    "    fig, ax = plt.subplots()\n",
    "    ax.plot( Xs, Betas, linewidth=1.0, color=\"grey\" )\n",
    "    ## \n",
    "    plt.show()\n",
    "\n",
    "plotBeta( 3,3 )"
   ]
  },
  {
   "cell_type": "code",
   "execution_count": 133,
   "id": "997ef714-4e00-4069-8bd8-3a98b2ea7c8d",
   "metadata": {},
   "outputs": [
    {
     "name": "stdout",
     "output_type": "stream",
     "text": [
      "[[0.025, 0.675, {'Covert': 0.0, 'None': 0.065, 'Overt': 0.935}],\n",
      " [0.075, 0.675, {'Covert': 0.0, 'None': 0.07, 'Overt': 0.93}],\n",
      " [0.125, 0.675, {'Covert': 0.0, 'None': 0.06, 'Overt': 0.94}],\n",
      " [0.175, 0.675, {'Covert': 0.0, 'None': 0.08, 'Overt': 0.92}],\n",
      " [0.225, 0.675, {'Covert': 0.0, 'None': 0.08, 'Overt': 0.92}],\n",
      " [0.275, 0.675, {'Covert': 0.0, 'None': 0.08, 'Overt': 0.92}],\n",
      " [0.325, 0.675, {'Covert': 0.0, 'None': 0.075, 'Overt': 0.925}],\n",
      " [0.375, 0.675, {'Covert': 0.0, 'None': 0.115, 'Overt': 0.885}],\n",
      " [0.425, 0.675, {'Covert': 0.0, 'None': 0.1, 'Overt': 0.9}],\n",
      " [0.475, 0.675, {'Covert': 0.0, 'None': 0.2, 'Overt': 0.8}],\n",
      " [0.525, 0.675, {'Covert': 0.0, 'None': 0.34, 'Overt': 0.66}],\n",
      " [0.575, 0.675, {'Covert': 0.0, 'None': 0.58, 'Overt': 0.42}],\n",
      " [0.625, 0.675, {'Covert': 0.0, 'None': 0.995, 'Overt': 0.005}],\n",
      " [0.675, 0.675, {'Covert': 0.0, 'None': 1.0, 'Overt': 0.0}],\n",
      " [0.725, 0.675, {'Covert': 0.0, 'None': 1.0, 'Overt': 0.0}],\n",
      " [0.775, 0.675, {'Covert': 0.0, 'None': 1.0, 'Overt': 0.0}],\n",
      " [0.825, 0.675, {'Covert': 0.16, 'None': 0.84, 'Overt': 0.0}],\n",
      " [0.875, 0.675, {'Covert': 0.425, 'None': 0.575, 'Overt': 0.0}],\n",
      " [0.925, 0.675, {'Covert': 0.565, 'None': 0.435, 'Overt': 0.0}],\n",
      " [0.975, 0.675, {'Covert': 0.615, 'None': 0.385, 'Overt': 0.0}]]\n"
     ]
    }
   ],
   "source": [
    "Distros = [\n",
    "    i\n",
    "    for i in DistrosSQ\n",
    "    if i[1] == 0.675\n",
    "]\n",
    "pprint(Distros)"
   ]
  },
  {
   "cell_type": "code",
   "execution_count": 134,
   "id": "317798dc-c164-44d8-93b5-a9f708480865",
   "metadata": {},
   "outputs": [
    {
     "data": {
      "image/png": "[encoded data removed]",
      "text/plain": [
       "<Figure size 200x200 with 1 Axes>"
      ]
     },
     "metadata": {},
     "output_type": "display_data"
    }
   ],
   "source": [
    "def plotDistros( distros ):\n",
    "    Xs = get(0).map()( distros )\n",
    "    Cs = ( get(2) | get(\"Covert\") ).map()( distros )\n",
    "    Os = ( get(2) | get(\"Overt\") ).map()( distros )\n",
    "    Ns = ( get(2) | get(\"None\") ).map()( distros )\n",
    "    ##\n",
    "    plt.style.use('_mpl-gallery')\n",
    "    # plot\n",
    "    fig, ax = plt.subplots()\n",
    "    ax.plot( Xs,Xs, linewidth=1.0, color=\"blue\" )\n",
    "    ax.plot( Xs,Cs, linewidth=1.0, color=\"grey\" )\n",
    "    ## ax.plot( Xs,Os, linewidth=1.0, color=\"green\" )\n",
    "    ax.plot( Xs,Ns, linewidth=1.0, color=\"red\" )\n",
    "    ##\n",
    "    ## \n",
    "    plt.show()\n",
    "\n",
    "plotDistros( Distros )"
   ]
  },
  {
   "cell_type": "code",
   "execution_count": 123,
   "id": "9c937e27-8a7f-413d-9086-a66334fef50d",
   "metadata": {
    "jp-MarkdownHeadingCollapsed": true
   },
   "outputs": [
    {
     "name": "stdout",
     "output_type": "stream",
     "text": [
      "[[0.4975, 0.3325, {'Covert': 0.505, 'None': 0.0, 'Overt': 0.495}]]\n"
     ]
    }
   ],
   "source": [
    "pprint( [ l for l in Distros if l[0] == 0.4975  ] )"
   ]
  },
  {
   "cell_type": "code",
   "execution_count": null,
   "id": "0b7e34d1-9c5e-4beb-99ae-cad87adcde27",
   "metadata": {},
   "outputs": [],
   "source": []
  },
  {
   "cell_type": "code",
   "execution_count": null,
   "id": "c4c88502-3c13-4522-b381-dc81b083d77d",
   "metadata": {},
   "outputs": [],
   "source": []
  },
  {
   "cell_type": "code",
   "execution_count": null,
   "id": "ac3f528f-07b7-4d44-9607-73a594e5509d",
   "metadata": {},
   "outputs": [],
   "source": []
  },
  {
   "cell_type": "code",
   "execution_count": null,
   "id": "dd95787d-9ad3-41da-88c0-f906c23b564d",
   "metadata": {},
   "outputs": [],
   "source": []
  },
  {
   "cell_type": "code",
   "execution_count": null,
   "id": "744c16f2-f778-43c1-9f94-abcfee33b172",
   "metadata": {},
   "outputs": [],
   "source": []
  },
  {
   "cell_type": "code",
   "execution_count": null,
   "id": "d4a77c7c-fc74-4ec6-96fa-ca4ac5ab5d04",
   "metadata": {},
   "outputs": [],
   "source": []
  },
  {
   "cell_type": "code",
   "execution_count": null,
   "id": "100dfe53-b064-428f-866a-cbe81b5e69f3",
   "metadata": {},
   "outputs": [],
   "source": []
  },
  {
   "cell_type": "code",
   "execution_count": null,
   "id": "8bc791fe-a82f-43d3-a22f-5e2267ac5389",
   "metadata": {},
   "outputs": [],
   "source": [
    "## Fun mkGraph"
   ]
  }
 ],
 "metadata": {
  "kernelspec": {
   "display_name": "Python 3 (ipykernel)",
   "language": "python",
   "name": "python3"
  },
  "language_info": {
   "codemirror_mode": {
    "name": "ipython",
    "version": 3
   },
   "file_extension": ".py",
   "mimetype": "text/x-python",
   "name": "python",
   "nbconvert_exporter": "python",
   "pygments_lexer": "ipython3",
   "version": "3.12.4"
  }
 },
 "nbformat": 4,
 "nbformat_minor": 5
}
